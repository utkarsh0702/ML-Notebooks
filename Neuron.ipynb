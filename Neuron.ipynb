{
  "nbformat": 4,
  "nbformat_minor": 0,
  "metadata": {
    "kernelspec": {
      "display_name": "Python 3",
      "language": "python",
      "name": "python3"
    },
    "language_info": {
      "codemirror_mode": {
        "name": "ipython",
        "version": 3
      },
      "file_extension": ".py",
      "mimetype": "text/x-python",
      "name": "python",
      "nbconvert_exporter": "python",
      "pygments_lexer": "ipython3",
      "version": "3.7.9"
    },
    "colab": {
      "name": "Neuron.ipynb",
      "provenance": [],
      "collapsed_sections": []
    }
  },
  "cells": [
    {
      "cell_type": "code",
      "metadata": {
        "id": "2R8YGPFXSyFi"
      },
      "source": [
        "import numpy as np\n",
        "import random as rd\n",
        "from tqdm import tqdm"
      ],
      "execution_count": 2,
      "outputs": []
    },
    {
      "cell_type": "code",
      "metadata": {
        "id": "fzpW-9eDSyFw"
      },
      "source": [
        "error_report=[]\n",
        "class Neuron():\n",
        "    def __init__(self):\n",
        "        np.random.seed(0)\n",
        "        #Initializing random weights for the neuron \n",
        "        self.weights= 2* np.random.random((3,1)) -1\n",
        "    \n",
        "    def sig(self, x):\n",
        "        # sigmoid activation function\n",
        "        return 1/ (1+ np.exp(-x))\n",
        "    \n",
        "    def sig_der(self, x):\n",
        "        # sigmoid derivation\n",
        "        return x*(1+x)\n",
        "    \n",
        "    def predict(self, x):\n",
        "        return self.sig(np.dot(x,self.weights))\n",
        "    \n",
        "    def fit(self, x, y, epochs, lr= 0.1):\n",
        "      # training the neuron and adjusting the weight\n",
        "      for i in range(1, 11):\n",
        "        for _ in tqdm(range(epochs//10), ascii=True, desc='Epochs {}'.format(i*100)):\n",
        "          output= self.predict(x)\n",
        "          error= output-y\n",
        "          error_report.append(np.mean(error))\n",
        "          adjust= np.dot(x.T, error*self.sig_der(output))\n",
        "          self.weights= self.weights-(lr*adjust)\n",
        "        print('Loss at Epoch {}:'.format(i*100), error_report[-1])"
      ],
      "execution_count": 9,
      "outputs": []
    },
    {
      "cell_type": "code",
      "metadata": {
        "colab": {
          "base_uri": "https://localhost:8080/"
        },
        "id": "FCDU_FT4S5tY",
        "outputId": "100c9834-42a8-4c2f-ee49-2e14e57ca6d4"
      },
      "source": [
        "neuron= Neuron()\n",
        "print('\\nThe weight before training are:')\n",
        "print(neuron.weights)\n",
        "train_inputs = np.array([[0, 0, 1], [1, 1, 1], [1, 0, 1], [0, 1, 1]]) \n",
        "train_outputs = np.array([[0, 1, 1, 0]]).T\n",
        "neuron.fit(train_inputs, train_outputs, 1000, lr= 0.05)\n",
        "print('\\nThe weight after training are:')\n",
        "print(neuron.weights)\n",
        "\n",
        "print('\\nThe predicted output of [1,0,0] is:')\n",
        "print(neuron.predict(np.array([1,0,0])))"
      ],
      "execution_count": 10,
      "outputs": [
        {
          "output_type": "stream",
          "text": [
            "Epochs 100: 100%|##########| 100/100 [00:00<00:00, 19254.06it/s]\n",
            "Epochs 200: 100%|##########| 100/100 [00:00<00:00, 14713.76it/s]\n",
            "Epochs 300: 100%|##########| 100/100 [00:00<00:00, 17453.72it/s]\n",
            "Epochs 400: 100%|##########| 100/100 [00:00<00:00, 15702.53it/s]\n",
            "Epochs 500: 100%|##########| 100/100 [00:00<00:00, 8193.60it/s]\n",
            "Epochs 600: 100%|##########| 100/100 [00:00<00:00, 11579.12it/s]\n",
            "Epochs 700: 100%|##########| 100/100 [00:00<00:00, 8823.98it/s]\n",
            "Epochs 800: 100%|##########| 100/100 [00:00<00:00, 11458.59it/s]\n",
            "Epochs 900: 100%|##########| 100/100 [00:00<00:00, 15646.89it/s]\n",
            "Epochs 1000: 100%|##########| 100/100 [00:00<00:00, 14486.10it/s]"
          ],
          "name": "stderr"
        },
        {
          "output_type": "stream",
          "text": [
            "\n",
            "The weight before training are:\n",
            "[[0.09762701]\n",
            " [0.43037873]\n",
            " [0.20552675]]\n",
            "Loss at Epoch 100: 0.14626257563223471\n",
            "Loss at Epoch 200: 0.12471397188576853\n",
            "Loss at Epoch 300: 0.10843520027903275\n",
            "Loss at Epoch 400: 0.09693280673745741\n",
            "Loss at Epoch 500: 0.08839118950780976\n",
            "Loss at Epoch 600: 0.08175779723502738\n",
            "Loss at Epoch 700: 0.07642404548031527\n",
            "Loss at Epoch 800: 0.07201815684812299\n",
            "Loss at Epoch 900: 0.06830048783593692\n",
            "Loss at Epoch 1000: 0.06510934149549567\n",
            "\n",
            "The weight after training are:\n",
            "[[ 6.62453261]\n",
            " [-0.20268395]\n",
            " [-1.73080302]]\n",
            "\n",
            "The predicted output of [1,0,0] is:\n",
            "[0.99867436]\n"
          ],
          "name": "stdout"
        },
        {
          "output_type": "stream",
          "text": [
            "\n"
          ],
          "name": "stderr"
        }
      ]
    },
    {
      "cell_type": "code",
      "metadata": {
        "colab": {
          "base_uri": "https://localhost:8080/",
          "height": 265
        },
        "id": "hJFWU7laSyFz",
        "outputId": "7e7719ab-fb9a-4ff0-8891-2bb81244eed8"
      },
      "source": [
        "import matplotlib.pyplot as plt\n",
        "\n",
        "epochs= range(1000)\n",
        "plt.figure()\n",
        "plt.scatter(epochs,error_report)\n",
        "plt.show()"
      ],
      "execution_count": 11,
      "outputs": [
        {
          "output_type": "display_data",
          "data": {
            "image/png": "[encoded data removed]",
            "text/plain": [
              "<Figure size 432x288 with 1 Axes>"
            ]
          },
          "metadata": {
            "tags": [],
            "needs_background": "light"
          }
        }
      ]
    },
    {
      "cell_type": "code",
      "metadata": {
        "id": "xRMQ5VVoSyF0"
      },
      "source": [
        ""
      ],
      "execution_count": null,
      "outputs": []
    }
  ]
}